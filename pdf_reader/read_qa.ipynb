{
 "cells": [
  {
   "cell_type": "code",
   "execution_count": 16,
   "metadata": {},
   "outputs": [
    {
     "name": "stdout",
     "output_type": "stream",
     "text": [
      "5\n",
      "What are some key recommendations that the President’s Council of Advisors on Science and Technology made in its 2017 report on ensuring long-term U.S. leadership in semiconductors?\n",
      "Implementing fully several key recommendations from the 2017 report on ensuring long-term U.S. leadership in semiconductors by the President’s Council of Advisors on Science and Technology, including finding and eliminating redundancies between state and federal permitting regulations for high-tech facilities by streamlining environmental, health, and safety regulations.\n"
     ]
    }
   ],
   "source": [
    "import torch\n",
    "import json\n",
    "\n",
    "with open('smart_factory_qapairs.jsonl','r',encoding='unicode_escape') as f:\n",
    "    data=json.load(f)\n",
    "\n",
    "def decode_unicode_escaped_string(escaped_string):\n",
    "    # 将 Unicode 转义序列解码为实际的中文字符\n",
    "    decoded_string = escaped_string.encode('unicode_escape').decode('unicode_escape')\n",
    "    return decoded_string\n",
    "\n",
    "for i in data:\n",
    "    print(len(i['Document']))\n",
    "    print(i['Question'])\n",
    "    print(i['Answer'])\n",
    "    print(i['Answer'])\n"
   ]
  }
 ],
 "metadata": {
  "kernelspec": {
   "display_name": "RR",
   "language": "python",
   "name": "python3"
  },
  "language_info": {
   "codemirror_mode": {
    "name": "ipython",
    "version": 3
   },
   "file_extension": ".py",
   "mimetype": "text/x-python",
   "name": "python",
   "nbconvert_exporter": "python",
   "pygments_lexer": "ipython3",
   "version": "3.10.14"
  }
 },
 "nbformat": 4,
 "nbformat_minor": 2
}
